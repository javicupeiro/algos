{
 "cells": [
  {
   "cell_type": "markdown",
   "metadata": {},
   "source": [
    "# Big-O "
   ]
  },
  {
   "cell_type": "code",
   "execution_count": null,
   "metadata": {},
   "outputs": [],
   "source": [
    "everyone = ['dory','bruce', 'marlin', 'nemo', 'gill', 'bloat', 'nigel', 'squirt', 'darla', 'hank']\n"
   ]
  },
  {
   "cell_type": "markdown",
   "metadata": {},
   "source": [
    "### Exercise 1\n",
    "\n",
    "What is the Big O of the below function? \n",
    "\n",
    "(Hint, you may want to go line by line)\n"
   ]
  },
  {
   "cell_type": "code",
   "execution_count": null,
   "metadata": {
    "vscode": {
     "languageId": "javascript"
    }
   },
   "outputs": [],
   "source": [
    "// What is the Big O of the below function? (Hint, you may want to go line by line)\n",
    "function funChallenge(input) {\n",
    "  let a = 10;\n",
    "  a = 50 + 3;\n",
    "\n",
    "  for (let i = 0; i < input.length; i++) {\n",
    "    anotherFunction();\n",
    "    let stranger = true;\n",
    "    a++;\n",
    "  }\n",
    "  return a;\n",
    "}"
   ]
  },
  {
   "cell_type": "code",
   "execution_count": 12,
   "metadata": {},
   "outputs": [],
   "source": [
    "def anotherFunction():\n",
    "    print(\"anotherFunction\")\n",
    "\n",
    "def funChallenge(input):\n",
    "    a = 10 # O(1)\n",
    "    a = 50 + 3 # O(1)\n",
    "    \n",
    "    for i in range(len(input)): # O(n) ->O(input)\n",
    "        anotherFunction() # O(n)\n",
    "        stranger = True # O(n)\n",
    "        a+=1 # O(n)\n",
    "    return a # O(1)"
   ]
  },
  {
   "cell_type": "code",
   "execution_count": 13,
   "metadata": {},
   "outputs": [
    {
     "name": "stdout",
     "output_type": "stream",
     "text": [
      "anotherFunction\n",
      "anotherFunction\n",
      "anotherFunction\n",
      "anotherFunction\n",
      "anotherFunction\n",
      "anotherFunction\n"
     ]
    },
    {
     "data": {
      "text/plain": [
       "59"
      ]
     },
     "execution_count": 13,
     "metadata": {},
     "output_type": "execute_result"
    }
   ],
   "source": [
    "ex1_array = [10,11,12,13,14,15]\n",
    "output = funChallenge(ex1_array)\n",
    "output"
   ]
  },
  {
   "cell_type": "markdown",
   "metadata": {},
   "source": [
    "We have:\n",
    "- 3*O(1)\n",
    "- 4*O(n)\n",
    "\n",
    "BigO(3 + 4n) --> O(n)"
   ]
  },
  {
   "cell_type": "markdown",
   "metadata": {},
   "source": [
    "---\n",
    "\n",
    "### Exercise 2\n",
    "\n",
    "What is the Big O of the below function? (Hint, you may want to go line by line)"
   ]
  },
  {
   "cell_type": "code",
   "execution_count": null,
   "metadata": {
    "vscode": {
     "languageId": "javascript"
    }
   },
   "outputs": [],
   "source": [
    "function anotherFunChallenge(input) {\n",
    "    let a = 5; \n",
    "    let b = 10; \n",
    "    let c = 50; \n",
    "    for (let i = 0; i < input; i++) { \n",
    "      let x = i + 1; \n",
    "      let y = i + 2; \n",
    "      let z = i + 3; \n",
    "\n",
    "    }\n",
    "    for (let j = 0; j < input; j++) { \n",
    "      let p = j * 2; \n",
    "      let q = j * 2;  \n",
    "    }\n",
    "    let whoAmI = \"I don't know\"; \n",
    "  }"
   ]
  },
  {
   "cell_type": "code",
   "execution_count": null,
   "metadata": {
    "vscode": {
     "languageId": "javascript"
    }
   },
   "outputs": [],
   "source": [
    "function anotherFunChallenge(input) {\n",
    "    let a = 5; // O(1)\n",
    "    let b = 10; // O(1)\n",
    "    let c = 50; // O(1)\n",
    "    for (let i = 0; i < input; i++) { // O(n)\n",
    "      let x = i + 1; // O(n)\n",
    "      let y = i + 2; // O(n)\n",
    "      let z = i + 3; // O(n)\n",
    "\n",
    "    }\n",
    "    for (let j = 0; j < input; j++) { // O(n)\n",
    "      let p = j * 2; // O(n)\n",
    "      let q = j * 2; // O(n) \n",
    "    }\n",
    "    let whoAmI = \"I don't know\"; // O(1)\n",
    "  } "
   ]
  },
  {
   "cell_type": "markdown",
   "metadata": {},
   "source": [
    "Big O = 4 + 7n --> O(n)"
   ]
  },
  {
   "cell_type": "markdown",
   "metadata": {},
   "source": [
    "---\n",
    "\n",
    "## Big-O rules:\n",
    "\n",
    "### Rule 1: Worst Case\n",
    "Si por ejemplo tenemos que iterar a traves de un array para encontrar un valor, la regla \"worst case\" dicta que siempre supondremos que el valor que buscamos estará en la última posición que busquemos.\n",
    "\n",
    "### Rule 2: Remove Constants\n",
    "Si tenemos O(2n), O(3 + n/2), O(n+5000000), da igual las constantes ya que al final siempre veremos 'n' como un infinito y todas las constantes serán insignificantes así que podemos quitarlas, es decir que todos los ejemplos anteriores serán O(n)\n",
    "\n",
    "### Rule 3: Different terms for inputs\n",
    "Si tenemos una función que recibe varios inputs, nuestro O deberá reflejar cada input. Ejemplo: función con 2 inputs y 2 for, cada for para una variable, el BigO será O(a+b) o O(n+m)  (da igual las letras)\n",
    "\n",
    "### Rule 4: Drop non dominants\n",
    "Si tenemos funciones complejas con por ejemplo O(n + n^2) o O(n^2 + 5n + 10000 + n/2), siempre nos quedaremos con el peor caso de todos y desecharemos el resto, en el ejemplo anterior el resultado final sería:\n",
    "- O(n + n^2) -> O(n^2)\n",
    "- O(n^2 + 5n + 10000 + n/2) -> O(n^2)\n",
    "\n",
    "\n",
    "----\n",
    "Ejemplo de O(n^2) y consejo para la regla 3"
   ]
  },
  {
   "cell_type": "code",
   "execution_count": 15,
   "metadata": {},
   "outputs": [
    {
     "name": "stdout",
     "output_type": "stream",
     "text": [
      "1 1\n",
      "1 2\n",
      "1 3\n",
      "1 4\n",
      "1 5\n",
      "2 1\n",
      "2 2\n",
      "2 3\n",
      "2 4\n",
      "2 5\n",
      "3 1\n",
      "3 2\n",
      "3 3\n",
      "3 4\n",
      "3 5\n",
      "4 1\n",
      "4 2\n",
      "4 3\n",
      "4 4\n",
      "4 5\n",
      "5 1\n",
      "5 2\n",
      "5 3\n",
      "5 4\n",
      "5 5\n"
     ]
    }
   ],
   "source": [
    "### O(n^2): Quadratic Time\n",
    "# Log all pairs of arrays\n",
    "#ej: 11,12,13,...,21,22,23,...\n",
    "cajas = [1,2,3,4,5]\n",
    "\n",
    "for caja1 in cajas:\n",
    "    for caja2 in cajas:\n",
    "        print(f\"{caja1} {caja2}\")"
   ]
  },
  {
   "cell_type": "markdown",
   "metadata": {},
   "source": [
    "Como son 2 'for' enlazados, sería como multiplicar cada 'for' O(n*n) --> O(n^2)\n",
    "\n",
    "### Rule 3: \n",
    "\n",
    "Consejo para la regla 3, si tenemos bucles anidados(nested), para calcular la 'O' emplearemos una multiplicación (*), si por otro lado, tenemos en el mismo nivel de identación(identation) lo que haremos es sumar(+)\n",
    "\n",
    "----"
   ]
  },
  {
   "cell_type": "markdown",
   "metadata": {},
   "source": [
    "### O(n!)\n",
    "\"Añadimos un loop por cada elemento\"\n",
    "\n",
    "En principio nunca deberíamos encontrarnos con esto, si lo encontramos, es que algo mal estamos haciendo\n",
    "\n",
    "---"
   ]
  },
  {
   "cell_type": "markdown",
   "metadata": {},
   "source": [
    "## Google interview: Question 1\n",
    "\n",
    "We are given two arrays. We have to find if these two arrays contain any matching elements.\n",
    "\n",
    "For example, ``array1 = ['a','b','c','x']`` , ``array2 = ['x','y','z']``\n",
    "\n",
    "This should return True as element 'x' appears in both arrays."
   ]
  },
  {
   "cell_type": "code",
   "execution_count": 25,
   "metadata": {},
   "outputs": [],
   "source": [
    "def brute_force_common_item(arr1, arr2):\n",
    "    # O(a*b)\n",
    "    for arr1_elem in arr1:\n",
    "        for arr2_elm in arr2:\n",
    "            if(arr1_elem == arr2_elm):\n",
    "                return True\n",
    "    return False"
   ]
  },
  {
   "cell_type": "code",
   "execution_count": 30,
   "metadata": {},
   "outputs": [],
   "source": [
    "#One solution can be creating a dictionary for one of the arrays and then looping over the other array\n",
    "#To check if any of its elements are present in the dictionary's keys.\n",
    "#Dictionaries are implemented as hash tables in python, and the time complexity for look-ups or searching for an item, is O(1).\n",
    "#Therefore, the dictionary can be created in O(n) time and then we loop over one array of size say m,\n",
    "#Where we check for every element if it is present in the dictionary's keys, which is an O(1) operation.\n",
    "#Therefore, the overall complexity of the function becomes, O(n + m*1) = O(m+n)\n",
    "#Which is significantly better than our previous function.\n",
    "\n",
    "def smarter_matching(array1, array2):\n",
    "    dictionary = dict()\n",
    "    for i in range(len(array1)):\n",
    "        dictionary[array1[i]] = True\n",
    "\n",
    "    for i in range(len(array2)):\n",
    "        if array2[i] in dictionary:\n",
    "            return True\n",
    "\n",
    "    return False"
   ]
  },
  {
   "cell_type": "code",
   "execution_count": 31,
   "metadata": {},
   "outputs": [],
   "source": [
    "#In this solution, we've made a number of asssumptions, like there will be no repitions of any element in an array,\n",
    "#Or that our function will receive exactly 2 inputs which will be arrays.\n",
    "#Now that we have come up with a better solution in terms of time complexity, we can look to iron out the minor flaws.\n",
    "#Let's make our function such that it can receive arrays with repititve elements, and if it receives anything other than two arrays\n",
    "#It gives an error message instead of just crashing out.\n",
    "\n",
    "def smarter_matching2(array1, array2):\n",
    "    try:\n",
    "        dictionary = dict()\n",
    "        for i in range(len(array1)):\n",
    "            if array1[i] not in dictionary:\n",
    "                dictionary[array1[i]] = True\n",
    "\n",
    "        for i in range(len(array2)):\n",
    "            if array2[i] in dictionary:\n",
    "                return True\n",
    "        return False\n",
    "\n",
    "    except TypeError:\n",
    "        return \"Exactly two arrays required.\""
   ]
  },
  {
   "cell_type": "code",
   "execution_count": 28,
   "metadata": {},
   "outputs": [
    {
     "name": "stdout",
     "output_type": "stream",
     "text": [
      "False\n",
      "True\n",
      "False\n"
     ]
    }
   ],
   "source": [
    "array1 = ['a','b','c','d']\n",
    "array2 = ['w','x','y','z']\n",
    "array3 = ['p','r','z','d']\n",
    "\n",
    "\n",
    "print(brute_force_common_item(array1, array2))\n",
    "print(brute_force_common_item(array1, array3))\n",
    "print(smarter_matching(array1, array2))"
   ]
  }
 ],
 "metadata": {
  "kernelspec": {
   "display_name": "algos",
   "language": "python",
   "name": "python3"
  },
  "language_info": {
   "codemirror_mode": {
    "name": "ipython",
    "version": 3
   },
   "file_extension": ".py",
   "mimetype": "text/x-python",
   "name": "python",
   "nbconvert_exporter": "python",
   "pygments_lexer": "ipython3",
   "version": "3.12.4"
  }
 },
 "nbformat": 4,
 "nbformat_minor": 2
}
