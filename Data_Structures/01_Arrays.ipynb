{
 "cells": [
  {
   "cell_type": "markdown",
   "metadata": {},
   "source": [
    "# 01 - Arrays\n",
    "\n",
    "\"Estructura que almacena los datos de forma secuencial\"\n",
    "### array:\n",
    "\n",
    "| index        | 0        | 1        | 2        | 3        | 4        | 5        |\n",
    "|----------|----------|----------|----------|----------|----------|----------|\n",
    "| value        | 85       | 32       | 19       | 46       | 98       | 13       |\n",
    "\n",
    "\n",
    "- Se almacenan en celdas contiguas (en orden)\n",
    "- Es una de las estructuras que menos espacio ocupan\n",
    "\n",
    "## Acciones:\n",
    "- **lookup(access):** O(1)\n",
    "- **push:** O(1)\n",
    "- **insert:** O(n)\n",
    "- **delete:** O(n)"
   ]
  },
  {
   "cell_type": "code",
   "execution_count": 6,
   "metadata": {},
   "outputs": [
    {
     "name": "stdout",
     "output_type": "stream",
     "text": [
      "Access[2]:  c\n",
      "Push: ['a', 'b', 'c', 'd', 'e']\n",
      "Pop:  ['a', 'b', 'c', 'd']\n"
     ]
    }
   ],
   "source": [
    "strings = ['a', 'b', 'c','d']\n",
    "\n",
    "# access\n",
    "print(\"Access[2]: \",strings[2]) \n",
    "\n",
    "# Push/Add(end)\n",
    "strings.append('e') # O(1), añadimos al final\n",
    "print(\"Push:\", strings)\n",
    "\n",
    "# Pop/Remove(end)\n",
    "strings.pop() # O(1), quitamos el último valor\n",
    "print(\"Pop: \", strings)\n",
    "\n"
   ]
  },
  {
   "cell_type": "code",
   "execution_count": 9,
   "metadata": {},
   "outputs": [
    {
     "data": {
      "text/plain": [
       "deque(['x', 'a', 'b', 'c', 'd'])"
      ]
     },
     "execution_count": 9,
     "metadata": {},
     "output_type": "execute_result"
    }
   ],
   "source": [
    "from collections import deque\n",
    "\n",
    "# Añadimos un elemento al inicio del array/lista\n",
    "strings_dq = deque(strings)\n",
    "strings_dq.appendleft('x') \n",
    "strings_dq"
   ]
  },
  {
   "cell_type": "code",
   "execution_count": 10,
   "metadata": {},
   "outputs": [
    {
     "data": {
      "text/plain": [
       "['x', 'a', 'b', 'c', 'd']"
      ]
     },
     "execution_count": 10,
     "metadata": {},
     "output_type": "execute_result"
    }
   ],
   "source": [
    "# alternativa\n",
    "strings.insert(0,'x')\n",
    "strings"
   ]
  },
  {
   "cell_type": "markdown",
   "metadata": {},
   "source": [
    "Añadir al inicio es O(n), ya que tenemos que iterar sobre cada elemento para reasignar el indice. Lo mismo ocurre con añadir algo en medio, ya que toca reasignar indices."
   ]
  },
  {
   "cell_type": "markdown",
   "metadata": {},
   "source": [
    "---\n",
    "# Static vs Dynamic Arrays\n",
    "- Static: tamaño fijo, se declara su tamaño al iniciar la estructura\n",
    "- Dynamic: tamaño variable, ej: `list` en python\n",
    "\n",
    "Acciones:\n",
    "\n",
    "|Static|Dynamic|O()|\n",
    "|------|---|---|\n",
    "|lookup|lookup|O(1)|\n",
    "|push  |append*|O(1)|\n",
    "|insert|insert|O(n)|\n",
    "|delete|delete|O(n)|\n",
    "\n",
    "***append**: puede ser O(n), esto es debido a que cuando se realizan operaciones sobre el array como añadir/quitar elementos, por debajo el lenguaje lo que hace es hacer una copia del array original y lo va montando en el array nuevo con el nuevo orden\n",
    "\n"
   ]
  },
  {
   "cell_type": "code",
   "execution_count": null,
   "metadata": {
    "vscode": {
     "languageId": "javascript"
    }
   },
   "outputs": [],
   "source": [
    "/* C/C++ */\n",
    "int a[20]; // static \n",
    "int b[5] = {0,1,2,3,4} // static"
   ]
  },
  {
   "cell_type": "markdown",
   "metadata": {},
   "source": [
    "---\n",
    "# Implementing an array"
   ]
  },
  {
   "cell_type": "markdown",
   "metadata": {},
   "source": []
  }
 ],
 "metadata": {
  "kernelspec": {
   "display_name": "algos",
   "language": "python",
   "name": "python3"
  },
  "language_info": {
   "codemirror_mode": {
    "name": "ipython",
    "version": 3
   },
   "file_extension": ".py",
   "mimetype": "text/x-python",
   "name": "python",
   "nbconvert_exporter": "python",
   "pygments_lexer": "ipython3",
   "version": "3.12.4"
  }
 },
 "nbformat": 4,
 "nbformat_minor": 2
}
