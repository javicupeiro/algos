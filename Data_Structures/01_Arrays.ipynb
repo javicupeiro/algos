{
 "cells": [
  {
   "cell_type": "markdown",
   "metadata": {},
   "source": [
    "# 01 - Arrays\n",
    "\n",
    "\"Estructura que almacena los datos de forma secuencial\"\n",
    "### array:\n",
    "\n",
    "| index        | 0        | 1        | 2        | 3        | 4        | 5        |\n",
    "|----------|----------|----------|----------|----------|----------|----------|\n",
    "| value        | 85       | 32       | 19       | 46       | 98       | 13       |\n",
    "\n",
    "\n",
    "- Se almacenan en celdas contiguas (en orden)\n",
    "- Es una de las estructuras que menos espacio ocupan\n",
    "\n",
    "## Acciones:\n",
    "- **lookup(access):** O(1)\n",
    "- **push:** O(1)\n",
    "- **insert:** O(n)\n",
    "- **delete:** O(n)"
   ]
  },
  {
   "cell_type": "code",
   "execution_count": 6,
   "metadata": {},
   "outputs": [
    {
     "name": "stdout",
     "output_type": "stream",
     "text": [
      "Access[2]:  c\n",
      "Push: ['a', 'b', 'c', 'd', 'e']\n",
      "Pop:  ['a', 'b', 'c', 'd']\n"
     ]
    }
   ],
   "source": [
    "strings = ['a', 'b', 'c','d']\n",
    "\n",
    "# access\n",
    "print(\"Access[2]: \",strings[2]) \n",
    "\n",
    "# Push/Add(end)\n",
    "strings.append('e') # O(1), añadimos al final\n",
    "print(\"Push:\", strings)\n",
    "\n",
    "# Pop/Remove(end)\n",
    "strings.pop() # O(1), quitamos el último valor\n",
    "print(\"Pop: \", strings)\n",
    "\n"
   ]
  },
  {
   "cell_type": "code",
   "execution_count": 9,
   "metadata": {},
   "outputs": [
    {
     "data": {
      "text/plain": [
       "deque(['x', 'a', 'b', 'c', 'd'])"
      ]
     },
     "execution_count": 9,
     "metadata": {},
     "output_type": "execute_result"
    }
   ],
   "source": [
    "from collections import deque\n",
    "\n",
    "# Añadimos un elemento al inicio del array/lista\n",
    "strings_dq = deque(strings)\n",
    "strings_dq.appendleft('x') \n",
    "strings_dq"
   ]
  },
  {
   "cell_type": "code",
   "execution_count": 10,
   "metadata": {},
   "outputs": [
    {
     "data": {
      "text/plain": [
       "['x', 'a', 'b', 'c', 'd']"
      ]
     },
     "execution_count": 10,
     "metadata": {},
     "output_type": "execute_result"
    }
   ],
   "source": [
    "# alternativa\n",
    "strings.insert(0,'x')\n",
    "strings"
   ]
  },
  {
   "cell_type": "markdown",
   "metadata": {},
   "source": [
    "Añadir al inicio es O(n), ya que tenemos que iterar sobre cada elemento para reasignar el indice. Lo mismo ocurre con añadir algo en medio, ya que toca reasignar indices."
   ]
  },
  {
   "cell_type": "markdown",
   "metadata": {},
   "source": [
    "---\n",
    "# Static vs Dynamic Arrays\n",
    "- Static: tamaño fijo, se declara su tamaño al iniciar la estructura\n",
    "- Dynamic: tamaño variable, ej: `list` en python\n",
    "\n",
    "Acciones:\n",
    "\n",
    "|Static|Dynamic|O()|\n",
    "|------|---|---|\n",
    "|lookup|lookup|O(1)|\n",
    "|push  |append*|O(1)|\n",
    "|insert|insert|O(n)|\n",
    "|delete|delete|O(n)|\n",
    "\n",
    "***append**: puede ser O(n), esto es debido a que cuando se realizan operaciones sobre el array como añadir/quitar elementos, por debajo el lenguaje lo que hace es hacer una copia del array original y lo va montando en el array nuevo con el nuevo orden\n",
    "\n"
   ]
  },
  {
   "cell_type": "code",
   "execution_count": null,
   "metadata": {
    "vscode": {
     "languageId": "javascript"
    }
   },
   "outputs": [],
   "source": [
    "/* C/C++ */\n",
    "int a[20]; // static \n",
    "int b[5] = {0,1,2,3,4} // static"
   ]
  },
  {
   "cell_type": "markdown",
   "metadata": {},
   "source": [
    "---\n",
    "# Implementing an array"
   ]
  },
  {
   "cell_type": "code",
   "execution_count": 11,
   "metadata": {},
   "outputs": [],
   "source": [
    "#Although arrays are pre-defined in Python in the form of lists, we can implement our own arrays.\n",
    "#Here, we will implement our own array with some common methods such as access, push, pop, insert, delete\n",
    "\n",
    "class MyArray():\n",
    "    def __init__(self):\n",
    "        self.length = 0 #We initialize the array's length to be zero\n",
    "        self.data = {} #We initialize the data of the array using an empty dictionary. The keys will correspond to the index and the values to the data\n",
    "\n",
    "    #The attributes of the array class are stored in a dictionary by default.\n",
    "    #When the __dict__ method is called on an instance of the class it returns the attributes of the class along with their values in a dictionary format\n",
    "    #Now, when the instance of the class is printed, it returns a class object with its location in memory.\n",
    "    #But we know when we print the array we get the elements of the array as output\n",
    "    #When we print the instance of the class, the built-in __str__ method is called. So we can modify the __str__ method inside the class\n",
    "    #To suit our needs.\n",
    "    def __str__(self):\n",
    "       return str(self.__dict__) #This will print the attributes of the array class(length and dsata) in string format when print(array_instance) is executed\n",
    "\n",
    "    def get(self, index):\n",
    "        return self.data[index] #This method takes in the index of the element as a parameter and returns the corresponding element in O(1) time.\n",
    "\n",
    "    def push(self, item):\n",
    "        self.length += 1\n",
    "        self.data[self.length - 1] = item #Adds the item provided to the end of the array\n",
    "\n",
    "    def pop(self):\n",
    "        last_item = self.data[self.length-1] #Collects the last element\n",
    "        del self.data[self.length - 1] #Deletes the last element from the array\n",
    "        self.length -= 1 #Decrements the length attribute of the array by 1\n",
    "        return last_item #Returns the popped element. O(1) time\n",
    "\n",
    "    def insert(self, index, item):\n",
    "        self.length += 1\n",
    "        for i in range(self.length-1, index, -1):\n",
    "            self.data[i] = self.data[i-1] #Shifts every element from the index to the end by one place towards right. Thus making space at the specified index\n",
    "        self.data[index] = item #Adds the element at the given index. O(n) operation\n",
    "\n",
    "\n",
    "    def delete(self,index):\n",
    "        for i in range(index, self.length-1):\n",
    "            self.data[i] = self.data[i+1] #Shifts elements from the given index to the end by one place towards left\n",
    "        del self.data[self.length - 1] #The last element which remains two times in the array is deleted\n",
    "        self.length -= 1 #The lenght is decremented by 1. O(n) operation\n",
    "\n"
   ]
  },
  {
   "cell_type": "code",
   "execution_count": 12,
   "metadata": {},
   "outputs": [
    {
     "name": "stdout",
     "output_type": "stream",
     "text": [
      "2\n",
      "{'length': 5, 'data': {0: 6, 1: 2, 2: 45, 3: 10, 4: 67}}\n"
     ]
    }
   ],
   "source": [
    "arr = MyArray()\n",
    "arr.push(6)\n",
    "#{'length': 1, 'data': {0: 6}}\n",
    "\n",
    "arr.push(2)\n",
    "#{'length': 2, 'data': {0: 6, 1: 2}}\n",
    "\n",
    "arr.push(9)\n",
    "#{'length': 3, 'data': {0: 6, 1: 2, 2: 9}}\n",
    "\n",
    "arr.pop()\n",
    "#{'length': 2, 'data': {0: 6, 1: 2}}\n",
    "\n",
    "arr.push(45)\n",
    "arr.push(12)\n",
    "arr.push(67)\n",
    "#{'length': 5, 'data': {0: 6, 1: 2, 2: 45, 3: 12, 4: 67}}\n",
    "\n",
    "arr.insert(3,10)\n",
    "#{'length': 6, 'data': {0: 6, 1: 2, 2: 45, 3: 10, 4: 12, 5: 67}}\n",
    "\n",
    "arr.delete(4)\n",
    "#{'length': 5, 'data': {0: 6, 1: 2, 2: 45, 3: 10, 4: 67}}\n",
    "\n",
    "print(arr.get(1))\n",
    "#2\n",
    "\n",
    "print(arr)\n",
    "#The outputs given after each function call are the outputs obtained by calling print(arr) and not by the function calls themselves"
   ]
  },
  {
   "cell_type": "markdown",
   "metadata": {},
   "source": [
    "---\n",
    "\n",
    "**Consejo**: en pruebas técnicas hay que ver los problemas de `strings` como problemas de arrays. Al final un string es una cadena de caracteres\n",
    "\n",
    "### Exercise:\n",
    "Create a function that reverses a string: \"Hi my name is Pablo\" should be \"olbaP si eman ym iH\"\n"
   ]
  },
  {
   "cell_type": "code",
   "execution_count": 90,
   "metadata": {},
   "outputs": [],
   "source": [
    "def reverse(phrase: str):\n",
    "    # Do not process something that isn't a str or has only 1 char\n",
    "    if((type(phrase)!=str) or (len(phrase)<2) ):\n",
    "        return phrase\n",
    "    output=\"\"\n",
    "    for idx in range(len(phrase)-1, -1, -1):\n",
    "        output+=phrase[idx]    \n",
    "    \n",
    "    return output"
   ]
  },
  {
   "cell_type": "code",
   "execution_count": 91,
   "metadata": {},
   "outputs": [],
   "source": [
    "def reverse2(phrase):\n",
    "  return \" \".join(phrase[::-1].split(\" \"))\n"
   ]
  },
  {
   "cell_type": "code",
   "execution_count": 92,
   "metadata": {},
   "outputs": [
    {
     "name": "stdout",
     "output_type": "stream",
     "text": [
      "olbaP si eman ym iH\n",
      "!nóimac nu ariM¡\n",
      "43\n",
      "a\n"
     ]
    }
   ],
   "source": [
    "str1=\"Hi my name is Pablo\"\n",
    "print(reverse2(str1))\n",
    "str2=\"¡Mira un camión!\"\n",
    "print(reverse2(str2))\n",
    "str3=43\n",
    "print(reverse(str3))\n",
    "str4=\"a\"\n",
    "print(reverse(str4))\n"
   ]
  },
  {
   "cell_type": "markdown",
   "metadata": {},
   "source": [
    "---\n",
    "### Exercise:\n",
    "Given 2 arrays, merge them return it sorted\n",
    "ex: [0,3,4,31], [4,6,30] --> [0,3,4,4,6,30,31]\n"
   ]
  },
  {
   "cell_type": "code",
   "execution_count": 133,
   "metadata": {},
   "outputs": [],
   "source": [
    "def mergeSortedArrays(arr1, arr2):\n",
    "    arr1.extend(arr2)\n",
    "    arr1.sort()\n",
    "    return arr1\n",
    "    "
   ]
  },
  {
   "cell_type": "code",
   "execution_count": 134,
   "metadata": {},
   "outputs": [],
   "source": [
    "def mergeSortedArrays2(arr1, arr2):\n",
    "    return sorted(arr1 + arr2)"
   ]
  },
  {
   "cell_type": "code",
   "execution_count": 135,
   "metadata": {},
   "outputs": [
    {
     "name": "stdout",
     "output_type": "stream",
     "text": [
      "[0, 3, 4, 4, 6, 30, 31]\n",
      "[0, 1, 2, 3, 4, 5, 6, 7, 8, 10, 33]\n"
     ]
    }
   ],
   "source": [
    "arr1= [0,3,4,31]\n",
    "arr2= [4,6,30]\n",
    "arr3= [1,3,5,7,33]\n",
    "arr4= [0,2,4,6,8,10]\n",
    "\n",
    "\n",
    "print(mergeSortedArrays(arr1,arr2))\n",
    "print(mergeSortedArrays(arr3,arr4))"
   ]
  },
  {
   "cell_type": "code",
   "execution_count": 136,
   "metadata": {},
   "outputs": [
    {
     "name": "stdout",
     "output_type": "stream",
     "text": [
      "[0, 3, 4, 4, 6, 30, 31]\n",
      "[0, 1, 2, 3, 4, 5, 6, 7, 8, 10, 33]\n"
     ]
    }
   ],
   "source": [
    "arr11= [0,3,4,31]\n",
    "arr12= [4,6,30]\n",
    "arr13= [1,3,5,7,33]\n",
    "arr14= [0,2,4,6,8,10]\n",
    "\n",
    "print(mergeSortedArrays2(arr11,arr12))\n",
    "print(mergeSortedArrays2(arr13,arr14))"
   ]
  },
  {
   "cell_type": "code",
   "execution_count": 109,
   "metadata": {},
   "outputs": [
    {
     "ename": "TypeError",
     "evalue": "sort() takes no positional arguments",
     "output_type": "error",
     "traceback": [
      "\u001b[1;31m---------------------------------------------------------------------------\u001b[0m",
      "\u001b[1;31mTypeError\u001b[0m                                 Traceback (most recent call last)",
      "Cell \u001b[1;32mIn[109], line 1\u001b[0m\n\u001b[1;32m----> 1\u001b[0m \u001b[43marr1\u001b[49m\u001b[38;5;241;43m.\u001b[39;49m\u001b[43msort\u001b[49m\u001b[43m(\u001b[49m\u001b[43marr1\u001b[49m\u001b[38;5;241;43m.\u001b[39;49m\u001b[43mextend\u001b[49m\u001b[43m(\u001b[49m\u001b[43marr2\u001b[49m\u001b[43m)\u001b[49m\u001b[43m)\u001b[49m\n\u001b[0;32m      2\u001b[0m arr1\n",
      "\u001b[1;31mTypeError\u001b[0m: sort() takes no positional arguments"
     ]
    }
   ],
   "source": [
    "\n",
    "arr1"
   ]
  }
 ],
 "metadata": {
  "kernelspec": {
   "display_name": "algos",
   "language": "python",
   "name": "python3"
  },
  "language_info": {
   "codemirror_mode": {
    "name": "ipython",
    "version": 3
   },
   "file_extension": ".py",
   "mimetype": "text/x-python",
   "name": "python",
   "nbconvert_exporter": "python",
   "pygments_lexer": "ipython3",
   "version": "3.12.4"
  }
 },
 "nbformat": 4,
 "nbformat_minor": 2
}
